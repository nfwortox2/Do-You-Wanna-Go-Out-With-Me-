{
  "nbformat": 4,
  "nbformat_minor": 0,
  "metadata": {
    "colab": {
      "provenance": [],
      "include_colab_link": true
    },
    "kernelspec": {
      "name": "python3",
      "display_name": "Python 3"
    },
    "language_info": {
      "name": "python"
    }
  },
  "cells": [
    {
      "cell_type": "markdown",
      "metadata": {
        "id": "view-in-github",
        "colab_type": "text"
      },
      "source": [
        "<a href=\"https://colab.research.google.com/github/nfwortox2/Do-You-Wanna-Go-Out-With-Me-/blob/main/assets/PokeGrinder.ipynb\" target=\"_parent\"><img src=\"https://colab.research.google.com/assets/colab-badge.svg\" alt=\"Open In Colab\"/></a>"
      ]
    },
    {
      "cell_type": "markdown",
      "source": [
        "### Clone the GitHub repository"
      ],
      "metadata": {
        "id": "S-bflJZTMmie"
      }
    },
    {
      "cell_type": "code",
      "execution_count": 1,
      "metadata": {
        "colab": {
          "base_uri": "https://localhost:8080/"
        },
        "id": "XpW0TJ34Lm_h",
        "outputId": "fe79af37-6df7-4f5e-84b4-96eb16df34b1"
      },
      "outputs": [
        {
          "output_type": "stream",
          "name": "stdout",
          "text": [
            "Cloning into 'PokeGrinder'...\n",
            "remote: Enumerating objects: 357, done.\u001b[K\n",
            "remote: Counting objects: 100% (143/143), done.\u001b[K\n",
            "remote: Compressing objects: 100% (82/82), done.\u001b[K\n",
            "remote: Total 357 (delta 97), reused 70 (delta 59), pack-reused 214 (from 1)\u001b[K\n",
            "Receiving objects: 100% (357/357), 5.51 MiB | 9.57 MiB/s, done.\n",
            "Resolving deltas: 100% (177/177), done.\n",
            "/content/PokeGrinder\n"
          ]
        }
      ],
      "source": [
        "!git clone https://github.com/MehulKhanna/PokeGrinder.git\n",
        "%cd PokeGrinder"
      ]
    },
    {
      "cell_type": "markdown",
      "source": [
        "### Install discord.py-self"
      ],
      "metadata": {
        "id": "eP1cdqmzM6E3"
      }
    },
    {
      "cell_type": "code",
      "source": [
        "%pip install git+https://github.com/dolfies/discord.py-self"
      ],
      "metadata": {
        "colab": {
          "base_uri": "https://localhost:8080/"
        },
        "id": "kwA_J_7NMwI4",
        "outputId": "ed239192-a456-4230-e141-7bafe3a5055b"
      },
      "execution_count": 2,
      "outputs": [
        {
          "output_type": "stream",
          "name": "stdout",
          "text": [
            "Collecting git+https://github.com/dolfies/discord.py-self\n",
            "  Cloning https://github.com/dolfies/discord.py-self to /tmp/pip-req-build-r1fssyvd\n",
            "  Running command git clone --filter=blob:none --quiet https://github.com/dolfies/discord.py-self /tmp/pip-req-build-r1fssyvd\n",
            "  Resolved https://github.com/dolfies/discord.py-self to commit c3b9ca3a613912f3b39fd0635f71e7748d7ae8c1\n",
            "  Installing build dependencies ... \u001b[?25l\u001b[?25hdone\n",
            "  Getting requirements to build wheel ... \u001b[?25l\u001b[?25hdone\n",
            "  Preparing metadata (pyproject.toml) ... \u001b[?25l\u001b[?25hdone\n",
            "Requirement already satisfied: aiohttp<4,>=3.7.4 in /usr/local/lib/python3.11/dist-packages (from discord.py-self==2.1.0b5105+gc3b9ca3a) (3.11.15)\n",
            "Collecting curl_cffi<1,>=0.9.0 (from discord.py-self==2.1.0b5105+gc3b9ca3a)\n",
            "  Downloading curl_cffi-0.10.0-cp39-abi3-manylinux_2_17_x86_64.manylinux2014_x86_64.whl.metadata (12 kB)\n",
            "Requirement already satisfied: tzlocal<6,>=4.0.0 in /usr/local/lib/python3.11/dist-packages (from discord.py-self==2.1.0b5105+gc3b9ca3a) (5.3.1)\n",
            "Collecting discord_protos<1.0.0 (from discord.py-self==2.1.0b5105+gc3b9ca3a)\n",
            "  Downloading discord-protos-0.0.2.tar.gz (13 kB)\n",
            "  Installing build dependencies ... \u001b[?25l\u001b[?25hdone\n",
            "  Getting requirements to build wheel ... \u001b[?25l\u001b[?25hdone\n",
            "  Preparing metadata (pyproject.toml) ... \u001b[?25l\u001b[?25hdone\n",
            "Requirement already satisfied: aiohappyeyeballs>=2.3.0 in /usr/local/lib/python3.11/dist-packages (from aiohttp<4,>=3.7.4->discord.py-self==2.1.0b5105+gc3b9ca3a) (2.6.1)\n",
            "Requirement already satisfied: aiosignal>=1.1.2 in /usr/local/lib/python3.11/dist-packages (from aiohttp<4,>=3.7.4->discord.py-self==2.1.0b5105+gc3b9ca3a) (1.3.2)\n",
            "Requirement already satisfied: attrs>=17.3.0 in /usr/local/lib/python3.11/dist-packages (from aiohttp<4,>=3.7.4->discord.py-self==2.1.0b5105+gc3b9ca3a) (25.3.0)\n",
            "Requirement already satisfied: frozenlist>=1.1.1 in /usr/local/lib/python3.11/dist-packages (from aiohttp<4,>=3.7.4->discord.py-self==2.1.0b5105+gc3b9ca3a) (1.6.0)\n",
            "Requirement already satisfied: multidict<7.0,>=4.5 in /usr/local/lib/python3.11/dist-packages (from aiohttp<4,>=3.7.4->discord.py-self==2.1.0b5105+gc3b9ca3a) (6.4.3)\n",
            "Requirement already satisfied: propcache>=0.2.0 in /usr/local/lib/python3.11/dist-packages (from aiohttp<4,>=3.7.4->discord.py-self==2.1.0b5105+gc3b9ca3a) (0.3.1)\n",
            "Requirement already satisfied: yarl<2.0,>=1.17.0 in /usr/local/lib/python3.11/dist-packages (from aiohttp<4,>=3.7.4->discord.py-self==2.1.0b5105+gc3b9ca3a) (1.20.0)\n",
            "Requirement already satisfied: cffi>=1.12.0 in /usr/local/lib/python3.11/dist-packages (from curl_cffi<1,>=0.9.0->discord.py-self==2.1.0b5105+gc3b9ca3a) (1.17.1)\n",
            "Requirement already satisfied: certifi>=2024.2.2 in /usr/local/lib/python3.11/dist-packages (from curl_cffi<1,>=0.9.0->discord.py-self==2.1.0b5105+gc3b9ca3a) (2025.4.26)\n",
            "Requirement already satisfied: protobuf in /usr/local/lib/python3.11/dist-packages (from discord_protos<1.0.0->discord.py-self==2.1.0b5105+gc3b9ca3a) (5.29.4)\n",
            "Requirement already satisfied: pycparser in /usr/local/lib/python3.11/dist-packages (from cffi>=1.12.0->curl_cffi<1,>=0.9.0->discord.py-self==2.1.0b5105+gc3b9ca3a) (2.22)\n",
            "Requirement already satisfied: idna>=2.0 in /usr/local/lib/python3.11/dist-packages (from yarl<2.0,>=1.17.0->aiohttp<4,>=3.7.4->discord.py-self==2.1.0b5105+gc3b9ca3a) (3.10)\n",
            "Downloading curl_cffi-0.10.0-cp39-abi3-manylinux_2_17_x86_64.manylinux2014_x86_64.whl (7.4 MB)\n",
            "\u001b[2K   \u001b[90m━━━━━━━━━━━━━━━━━━━━━━━━━━━━━━━━━━━━━━━━\u001b[0m \u001b[32m7.4/7.4 MB\u001b[0m \u001b[31m54.1 MB/s\u001b[0m eta \u001b[36m0:00:00\u001b[0m\n",
            "\u001b[?25hBuilding wheels for collected packages: discord.py-self, discord_protos\n",
            "  Building wheel for discord.py-self (pyproject.toml) ... \u001b[?25l\u001b[?25hdone\n",
            "  Created wheel for discord.py-self: filename=discord_py_self-2.1.0b5105+gc3b9ca3a-py3-none-any.whl size=1251998 sha256=092af2b44bfc3c05242d4e5ca79f7f20e340c686cfcbb9509f4bd6c965d532aa\n",
            "  Stored in directory: /tmp/pip-ephem-wheel-cache-jpcngaw4/wheels/05/21/4e/1d814f89efb7772273e1e5b305d0f01e931cfb78ceebce461b\n",
            "  Building wheel for discord_protos (pyproject.toml) ... \u001b[?25l\u001b[?25hdone\n",
            "  Created wheel for discord_protos: filename=discord_protos-0.0.2-py3-none-any.whl size=14045 sha256=36eda88d79f6915f583ef98551458a1b8b80c2dc93918e083c3a2c741da644df\n",
            "  Stored in directory: /root/.cache/pip/wheels/7b/6d/00/883c299f98ea46d8a7b71f50904faeec52941f930530351c00\n",
            "Successfully built discord.py-self discord_protos\n",
            "Installing collected packages: discord_protos, curl_cffi, discord.py-self\n",
            "Successfully installed curl_cffi-0.10.0 discord.py-self-2.1.0b5105+gc3b9ca3a discord_protos-0.0.2\n"
          ]
        }
      ]
    },
    {
      "cell_type": "markdown",
      "source": [
        "### Install requirements"
      ],
      "metadata": {
        "id": "sLd8UlBRM9iJ"
      }
    },
    {
      "cell_type": "code",
      "source": [
        "!python -m pip install -r requirements.txt"
      ],
      "metadata": {
        "colab": {
          "base_uri": "https://localhost:8080/"
        },
        "id": "vSlUM2O7M1nV",
        "outputId": "9998ec2b-ca71-478f-fe52-1c80e06f0bd2"
      },
      "execution_count": 3,
      "outputs": [
        {
          "output_type": "stream",
          "name": "stdout",
          "text": [
            "Requirement already satisfied: rich in /usr/local/lib/python3.11/dist-packages (from -r requirements.txt (line 1)) (13.9.4)\n",
            "Collecting ultralytics (from -r requirements.txt (line 2))\n",
            "  Downloading ultralytics-8.3.127-py3-none-any.whl.metadata (37 kB)\n",
            "Requirement already satisfied: pillow in /usr/local/lib/python3.11/dist-packages (from -r requirements.txt (line 3)) (11.2.1)\n",
            "Requirement already satisfied: markdown-it-py>=2.2.0 in /usr/local/lib/python3.11/dist-packages (from rich->-r requirements.txt (line 1)) (3.0.0)\n",
            "Requirement already satisfied: pygments<3.0.0,>=2.13.0 in /usr/local/lib/python3.11/dist-packages (from rich->-r requirements.txt (line 1)) (2.19.1)\n",
            "Requirement already satisfied: numpy>=1.23.0 in /usr/local/lib/python3.11/dist-packages (from ultralytics->-r requirements.txt (line 2)) (2.0.2)\n",
            "Requirement already satisfied: matplotlib>=3.3.0 in /usr/local/lib/python3.11/dist-packages (from ultralytics->-r requirements.txt (line 2)) (3.10.0)\n",
            "Requirement already satisfied: opencv-python>=4.6.0 in /usr/local/lib/python3.11/dist-packages (from ultralytics->-r requirements.txt (line 2)) (4.11.0.86)\n",
            "Requirement already satisfied: pyyaml>=5.3.1 in /usr/local/lib/python3.11/dist-packages (from ultralytics->-r requirements.txt (line 2)) (6.0.2)\n",
            "Requirement already satisfied: requests>=2.23.0 in /usr/local/lib/python3.11/dist-packages (from ultralytics->-r requirements.txt (line 2)) (2.32.3)\n",
            "Requirement already satisfied: scipy>=1.4.1 in /usr/local/lib/python3.11/dist-packages (from ultralytics->-r requirements.txt (line 2)) (1.15.2)\n",
            "Requirement already satisfied: torch>=1.8.0 in /usr/local/lib/python3.11/dist-packages (from ultralytics->-r requirements.txt (line 2)) (2.6.0+cu124)\n",
            "Requirement already satisfied: torchvision>=0.9.0 in /usr/local/lib/python3.11/dist-packages (from ultralytics->-r requirements.txt (line 2)) (0.21.0+cu124)\n",
            "Requirement already satisfied: tqdm>=4.64.0 in /usr/local/lib/python3.11/dist-packages (from ultralytics->-r requirements.txt (line 2)) (4.67.1)\n",
            "Requirement already satisfied: psutil in /usr/local/lib/python3.11/dist-packages (from ultralytics->-r requirements.txt (line 2)) (5.9.5)\n",
            "Requirement already satisfied: py-cpuinfo in /usr/local/lib/python3.11/dist-packages (from ultralytics->-r requirements.txt (line 2)) (9.0.0)\n",
            "Requirement already satisfied: pandas>=1.1.4 in /usr/local/lib/python3.11/dist-packages (from ultralytics->-r requirements.txt (line 2)) (2.2.2)\n",
            "Requirement already satisfied: seaborn>=0.11.0 in /usr/local/lib/python3.11/dist-packages (from ultralytics->-r requirements.txt (line 2)) (0.13.2)\n",
            "Collecting ultralytics-thop>=2.0.0 (from ultralytics->-r requirements.txt (line 2))\n",
            "  Downloading ultralytics_thop-2.0.14-py3-none-any.whl.metadata (9.4 kB)\n",
            "Requirement already satisfied: mdurl~=0.1 in /usr/local/lib/python3.11/dist-packages (from markdown-it-py>=2.2.0->rich->-r requirements.txt (line 1)) (0.1.2)\n",
            "Requirement already satisfied: contourpy>=1.0.1 in /usr/local/lib/python3.11/dist-packages (from matplotlib>=3.3.0->ultralytics->-r requirements.txt (line 2)) (1.3.2)\n",
            "Requirement already satisfied: cycler>=0.10 in /usr/local/lib/python3.11/dist-packages (from matplotlib>=3.3.0->ultralytics->-r requirements.txt (line 2)) (0.12.1)\n",
            "Requirement already satisfied: fonttools>=4.22.0 in /usr/local/lib/python3.11/dist-packages (from matplotlib>=3.3.0->ultralytics->-r requirements.txt (line 2)) (4.57.0)\n",
            "Requirement already satisfied: kiwisolver>=1.3.1 in /usr/local/lib/python3.11/dist-packages (from matplotlib>=3.3.0->ultralytics->-r requirements.txt (line 2)) (1.4.8)\n",
            "Requirement already satisfied: packaging>=20.0 in /usr/local/lib/python3.11/dist-packages (from matplotlib>=3.3.0->ultralytics->-r requirements.txt (line 2)) (24.2)\n",
            "Requirement already satisfied: pyparsing>=2.3.1 in /usr/local/lib/python3.11/dist-packages (from matplotlib>=3.3.0->ultralytics->-r requirements.txt (line 2)) (3.2.3)\n",
            "Requirement already satisfied: python-dateutil>=2.7 in /usr/local/lib/python3.11/dist-packages (from matplotlib>=3.3.0->ultralytics->-r requirements.txt (line 2)) (2.9.0.post0)\n",
            "Requirement already satisfied: pytz>=2020.1 in /usr/local/lib/python3.11/dist-packages (from pandas>=1.1.4->ultralytics->-r requirements.txt (line 2)) (2025.2)\n",
            "Requirement already satisfied: tzdata>=2022.7 in /usr/local/lib/python3.11/dist-packages (from pandas>=1.1.4->ultralytics->-r requirements.txt (line 2)) (2025.2)\n",
            "Requirement already satisfied: charset-normalizer<4,>=2 in /usr/local/lib/python3.11/dist-packages (from requests>=2.23.0->ultralytics->-r requirements.txt (line 2)) (3.4.1)\n",
            "Requirement already satisfied: idna<4,>=2.5 in /usr/local/lib/python3.11/dist-packages (from requests>=2.23.0->ultralytics->-r requirements.txt (line 2)) (3.10)\n",
            "Requirement already satisfied: urllib3<3,>=1.21.1 in /usr/local/lib/python3.11/dist-packages (from requests>=2.23.0->ultralytics->-r requirements.txt (line 2)) (2.4.0)\n",
            "Requirement already satisfied: certifi>=2017.4.17 in /usr/local/lib/python3.11/dist-packages (from requests>=2.23.0->ultralytics->-r requirements.txt (line 2)) (2025.4.26)\n",
            "Requirement already satisfied: filelock in /usr/local/lib/python3.11/dist-packages (from torch>=1.8.0->ultralytics->-r requirements.txt (line 2)) (3.18.0)\n",
            "Requirement already satisfied: typing-extensions>=4.10.0 in /usr/local/lib/python3.11/dist-packages (from torch>=1.8.0->ultralytics->-r requirements.txt (line 2)) (4.13.2)\n",
            "Requirement already satisfied: networkx in /usr/local/lib/python3.11/dist-packages (from torch>=1.8.0->ultralytics->-r requirements.txt (line 2)) (3.4.2)\n",
            "Requirement already satisfied: jinja2 in /usr/local/lib/python3.11/dist-packages (from torch>=1.8.0->ultralytics->-r requirements.txt (line 2)) (3.1.6)\n",
            "Requirement already satisfied: fsspec in /usr/local/lib/python3.11/dist-packages (from torch>=1.8.0->ultralytics->-r requirements.txt (line 2)) (2025.3.2)\n",
            "Collecting nvidia-cuda-nvrtc-cu12==12.4.127 (from torch>=1.8.0->ultralytics->-r requirements.txt (line 2))\n",
            "  Downloading nvidia_cuda_nvrtc_cu12-12.4.127-py3-none-manylinux2014_x86_64.whl.metadata (1.5 kB)\n",
            "Collecting nvidia-cuda-runtime-cu12==12.4.127 (from torch>=1.8.0->ultralytics->-r requirements.txt (line 2))\n",
            "  Downloading nvidia_cuda_runtime_cu12-12.4.127-py3-none-manylinux2014_x86_64.whl.metadata (1.5 kB)\n",
            "Collecting nvidia-cuda-cupti-cu12==12.4.127 (from torch>=1.8.0->ultralytics->-r requirements.txt (line 2))\n",
            "  Downloading nvidia_cuda_cupti_cu12-12.4.127-py3-none-manylinux2014_x86_64.whl.metadata (1.6 kB)\n",
            "Collecting nvidia-cudnn-cu12==9.1.0.70 (from torch>=1.8.0->ultralytics->-r requirements.txt (line 2))\n",
            "  Downloading nvidia_cudnn_cu12-9.1.0.70-py3-none-manylinux2014_x86_64.whl.metadata (1.6 kB)\n",
            "Collecting nvidia-cublas-cu12==12.4.5.8 (from torch>=1.8.0->ultralytics->-r requirements.txt (line 2))\n",
            "  Downloading nvidia_cublas_cu12-12.4.5.8-py3-none-manylinux2014_x86_64.whl.metadata (1.5 kB)\n",
            "Collecting nvidia-cufft-cu12==11.2.1.3 (from torch>=1.8.0->ultralytics->-r requirements.txt (line 2))\n",
            "  Downloading nvidia_cufft_cu12-11.2.1.3-py3-none-manylinux2014_x86_64.whl.metadata (1.5 kB)\n",
            "Collecting nvidia-curand-cu12==10.3.5.147 (from torch>=1.8.0->ultralytics->-r requirements.txt (line 2))\n",
            "  Downloading nvidia_curand_cu12-10.3.5.147-py3-none-manylinux2014_x86_64.whl.metadata (1.5 kB)\n",
            "Collecting nvidia-cusolver-cu12==11.6.1.9 (from torch>=1.8.0->ultralytics->-r requirements.txt (line 2))\n",
            "  Downloading nvidia_cusolver_cu12-11.6.1.9-py3-none-manylinux2014_x86_64.whl.metadata (1.6 kB)\n",
            "Collecting nvidia-cusparse-cu12==12.3.1.170 (from torch>=1.8.0->ultralytics->-r requirements.txt (line 2))\n",
            "  Downloading nvidia_cusparse_cu12-12.3.1.170-py3-none-manylinux2014_x86_64.whl.metadata (1.6 kB)\n",
            "Requirement already satisfied: nvidia-cusparselt-cu12==0.6.2 in /usr/local/lib/python3.11/dist-packages (from torch>=1.8.0->ultralytics->-r requirements.txt (line 2)) (0.6.2)\n",
            "Requirement already satisfied: nvidia-nccl-cu12==2.21.5 in /usr/local/lib/python3.11/dist-packages (from torch>=1.8.0->ultralytics->-r requirements.txt (line 2)) (2.21.5)\n",
            "Requirement already satisfied: nvidia-nvtx-cu12==12.4.127 in /usr/local/lib/python3.11/dist-packages (from torch>=1.8.0->ultralytics->-r requirements.txt (line 2)) (12.4.127)\n",
            "Collecting nvidia-nvjitlink-cu12==12.4.127 (from torch>=1.8.0->ultralytics->-r requirements.txt (line 2))\n",
            "  Downloading nvidia_nvjitlink_cu12-12.4.127-py3-none-manylinux2014_x86_64.whl.metadata (1.5 kB)\n",
            "Requirement already satisfied: triton==3.2.0 in /usr/local/lib/python3.11/dist-packages (from torch>=1.8.0->ultralytics->-r requirements.txt (line 2)) (3.2.0)\n",
            "Requirement already satisfied: sympy==1.13.1 in /usr/local/lib/python3.11/dist-packages (from torch>=1.8.0->ultralytics->-r requirements.txt (line 2)) (1.13.1)\n",
            "Requirement already satisfied: mpmath<1.4,>=1.1.0 in /usr/local/lib/python3.11/dist-packages (from sympy==1.13.1->torch>=1.8.0->ultralytics->-r requirements.txt (line 2)) (1.3.0)\n",
            "Requirement already satisfied: six>=1.5 in /usr/local/lib/python3.11/dist-packages (from python-dateutil>=2.7->matplotlib>=3.3.0->ultralytics->-r requirements.txt (line 2)) (1.17.0)\n",
            "Requirement already satisfied: MarkupSafe>=2.0 in /usr/local/lib/python3.11/dist-packages (from jinja2->torch>=1.8.0->ultralytics->-r requirements.txt (line 2)) (3.0.2)\n",
            "Downloading ultralytics-8.3.127-py3-none-any.whl (1.0 MB)\n",
            "\u001b[2K   \u001b[90m━━━━━━━━━━━━━━━━━━━━━━━━━━━━━━━━━━━━━━━━\u001b[0m \u001b[32m1.0/1.0 MB\u001b[0m \u001b[31m18.9 MB/s\u001b[0m eta \u001b[36m0:00:00\u001b[0m\n",
            "\u001b[?25hDownloading nvidia_cublas_cu12-12.4.5.8-py3-none-manylinux2014_x86_64.whl (363.4 MB)\n",
            "\u001b[2K   \u001b[90m━━━━━━━━━━━━━━━━━━━━━━━━━━━━━━━━━━━━━━━━\u001b[0m \u001b[32m363.4/363.4 MB\u001b[0m \u001b[31m4.2 MB/s\u001b[0m eta \u001b[36m0:00:00\u001b[0m\n",
            "\u001b[?25hDownloading nvidia_cuda_cupti_cu12-12.4.127-py3-none-manylinux2014_x86_64.whl (13.8 MB)\n",
            "\u001b[2K   \u001b[90m━━━━━━━━━━━━━━━━━━━━━━━━━━━━━━━━━━━━━━━━\u001b[0m \u001b[32m13.8/13.8 MB\u001b[0m \u001b[31m45.8 MB/s\u001b[0m eta \u001b[36m0:00:00\u001b[0m\n",
            "\u001b[?25hDownloading nvidia_cuda_nvrtc_cu12-12.4.127-py3-none-manylinux2014_x86_64.whl (24.6 MB)\n",
            "\u001b[2K   \u001b[90m━━━━━━━━━━━━━━━━━━━━━━━━━━━━━━━━━━━━━━━━\u001b[0m \u001b[32m24.6/24.6 MB\u001b[0m \u001b[31m27.8 MB/s\u001b[0m eta \u001b[36m0:00:00\u001b[0m\n",
            "\u001b[?25hDownloading nvidia_cuda_runtime_cu12-12.4.127-py3-none-manylinux2014_x86_64.whl (883 kB)\n",
            "\u001b[2K   \u001b[90m━━━━━━━━━━━━━━━━━━━━━━━━━━━━━━━━━━━━━━━━\u001b[0m \u001b[32m883.7/883.7 kB\u001b[0m \u001b[31m37.6 MB/s\u001b[0m eta \u001b[36m0:00:00\u001b[0m\n",
            "\u001b[?25hDownloading nvidia_cudnn_cu12-9.1.0.70-py3-none-manylinux2014_x86_64.whl (664.8 MB)\n",
            "\u001b[2K   \u001b[90m━━━━━━━━━━━━━━━━━━━━━━━━━━━━━━━━━━━━━━━━\u001b[0m \u001b[32m664.8/664.8 MB\u001b[0m \u001b[31m2.2 MB/s\u001b[0m eta \u001b[36m0:00:00\u001b[0m\n",
            "\u001b[?25hDownloading nvidia_cufft_cu12-11.2.1.3-py3-none-manylinux2014_x86_64.whl (211.5 MB)\n",
            "\u001b[2K   \u001b[90m━━━━━━━━━━━━━━━━━━━━━━━━━━━━━━━━━━━━━━━━\u001b[0m \u001b[32m211.5/211.5 MB\u001b[0m \u001b[31m5.8 MB/s\u001b[0m eta \u001b[36m0:00:00\u001b[0m\n",
            "\u001b[?25hDownloading nvidia_curand_cu12-10.3.5.147-py3-none-manylinux2014_x86_64.whl (56.3 MB)\n",
            "\u001b[2K   \u001b[90m━━━━━━━━━━━━━━━━━━━━━━━━━━━━━━━━━━━━━━━━\u001b[0m \u001b[32m56.3/56.3 MB\u001b[0m \u001b[31m12.7 MB/s\u001b[0m eta \u001b[36m0:00:00\u001b[0m\n",
            "\u001b[?25hDownloading nvidia_cusolver_cu12-11.6.1.9-py3-none-manylinux2014_x86_64.whl (127.9 MB)\n",
            "\u001b[2K   \u001b[90m━━━━━━━━━━━━━━━━━━━━━━━━━━━━━━━━━━━━━━━━\u001b[0m \u001b[32m127.9/127.9 MB\u001b[0m \u001b[31m7.1 MB/s\u001b[0m eta \u001b[36m0:00:00\u001b[0m\n",
            "\u001b[?25hDownloading nvidia_cusparse_cu12-12.3.1.170-py3-none-manylinux2014_x86_64.whl (207.5 MB)\n",
            "\u001b[2K   \u001b[90m━━━━━━━━━━━━━━━━━━━━━━━━━━━━━━━━━━━━━━━━\u001b[0m \u001b[32m207.5/207.5 MB\u001b[0m \u001b[31m5.7 MB/s\u001b[0m eta \u001b[36m0:00:00\u001b[0m\n",
            "\u001b[?25hDownloading nvidia_nvjitlink_cu12-12.4.127-py3-none-manylinux2014_x86_64.whl (21.1 MB)\n",
            "\u001b[2K   \u001b[90m━━━━━━━━━━━━━━━━━━━━━━━━━━━━━━━━━━━━━━━━\u001b[0m \u001b[32m21.1/21.1 MB\u001b[0m \u001b[31m51.3 MB/s\u001b[0m eta \u001b[36m0:00:00\u001b[0m\n",
            "\u001b[?25hDownloading ultralytics_thop-2.0.14-py3-none-any.whl (26 kB)\n",
            "Installing collected packages: nvidia-nvjitlink-cu12, nvidia-curand-cu12, nvidia-cufft-cu12, nvidia-cuda-runtime-cu12, nvidia-cuda-nvrtc-cu12, nvidia-cuda-cupti-cu12, nvidia-cublas-cu12, nvidia-cusparse-cu12, nvidia-cudnn-cu12, nvidia-cusolver-cu12, ultralytics-thop, ultralytics\n",
            "  Attempting uninstall: nvidia-nvjitlink-cu12\n",
            "    Found existing installation: nvidia-nvjitlink-cu12 12.5.82\n",
            "    Uninstalling nvidia-nvjitlink-cu12-12.5.82:\n",
            "      Successfully uninstalled nvidia-nvjitlink-cu12-12.5.82\n",
            "  Attempting uninstall: nvidia-curand-cu12\n",
            "    Found existing installation: nvidia-curand-cu12 10.3.6.82\n",
            "    Uninstalling nvidia-curand-cu12-10.3.6.82:\n",
            "      Successfully uninstalled nvidia-curand-cu12-10.3.6.82\n",
            "  Attempting uninstall: nvidia-cufft-cu12\n",
            "    Found existing installation: nvidia-cufft-cu12 11.2.3.61\n",
            "    Uninstalling nvidia-cufft-cu12-11.2.3.61:\n",
            "      Successfully uninstalled nvidia-cufft-cu12-11.2.3.61\n",
            "  Attempting uninstall: nvidia-cuda-runtime-cu12\n",
            "    Found existing installation: nvidia-cuda-runtime-cu12 12.5.82\n",
            "    Uninstalling nvidia-cuda-runtime-cu12-12.5.82:\n",
            "      Successfully uninstalled nvidia-cuda-runtime-cu12-12.5.82\n",
            "  Attempting uninstall: nvidia-cuda-nvrtc-cu12\n",
            "    Found existing installation: nvidia-cuda-nvrtc-cu12 12.5.82\n",
            "    Uninstalling nvidia-cuda-nvrtc-cu12-12.5.82:\n",
            "      Successfully uninstalled nvidia-cuda-nvrtc-cu12-12.5.82\n",
            "  Attempting uninstall: nvidia-cuda-cupti-cu12\n",
            "    Found existing installation: nvidia-cuda-cupti-cu12 12.5.82\n",
            "    Uninstalling nvidia-cuda-cupti-cu12-12.5.82:\n",
            "      Successfully uninstalled nvidia-cuda-cupti-cu12-12.5.82\n",
            "  Attempting uninstall: nvidia-cublas-cu12\n",
            "    Found existing installation: nvidia-cublas-cu12 12.5.3.2\n",
            "    Uninstalling nvidia-cublas-cu12-12.5.3.2:\n",
            "      Successfully uninstalled nvidia-cublas-cu12-12.5.3.2\n",
            "  Attempting uninstall: nvidia-cusparse-cu12\n",
            "    Found existing installation: nvidia-cusparse-cu12 12.5.1.3\n",
            "    Uninstalling nvidia-cusparse-cu12-12.5.1.3:\n",
            "      Successfully uninstalled nvidia-cusparse-cu12-12.5.1.3\n",
            "  Attempting uninstall: nvidia-cudnn-cu12\n",
            "    Found existing installation: nvidia-cudnn-cu12 9.3.0.75\n",
            "    Uninstalling nvidia-cudnn-cu12-9.3.0.75:\n",
            "      Successfully uninstalled nvidia-cudnn-cu12-9.3.0.75\n",
            "  Attempting uninstall: nvidia-cusolver-cu12\n",
            "    Found existing installation: nvidia-cusolver-cu12 11.6.3.83\n",
            "    Uninstalling nvidia-cusolver-cu12-11.6.3.83:\n",
            "      Successfully uninstalled nvidia-cusolver-cu12-11.6.3.83\n",
            "Successfully installed nvidia-cublas-cu12-12.4.5.8 nvidia-cuda-cupti-cu12-12.4.127 nvidia-cuda-nvrtc-cu12-12.4.127 nvidia-cuda-runtime-cu12-12.4.127 nvidia-cudnn-cu12-9.1.0.70 nvidia-cufft-cu12-11.2.1.3 nvidia-curand-cu12-10.3.5.147 nvidia-cusolver-cu12-11.6.1.9 nvidia-cusparse-cu12-12.3.1.170 nvidia-nvjitlink-cu12-12.4.127 ultralytics-8.3.127 ultralytics-thop-2.0.14\n"
          ]
        }
      ]
    },
    {
      "cell_type": "markdown",
      "source": [
        "# Now edit your config\n",
        "Please increase HuntingCooldown, FishingCooldown and RetryCooldown by a few hundred milliseconds to avoid \"Please wait\" messages.\n",
        "\n",
        "For example,\n",
        "Change \"HuntingCooldown\": 8.4 to \"HuntingCooldown\": 8.9"
      ],
      "metadata": {
        "id": "mAI5SVRPNrNy"
      }
    },
    {
      "cell_type": "markdown",
      "source": [
        "# Run PokeGrinder"
      ],
      "metadata": {
        "collapsed": false,
        "id": "6RI8tyvqDALS"
      }
    },
    {
      "cell_type": "code",
      "source": [
        "!python main.py"
      ],
      "metadata": {
        "colab": {
          "base_uri": "https://localhost:8080/"
        },
        "id": "IYQ6coDDNo0Z",
        "outputId": "7e17ee5f-e6e9-4751-a3f5-5eb7b4094842"
      },
      "execution_count": null,
      "outputs": [
        {
          "output_type": "stream",
          "name": "stdout",
          "text": [
            "\u001b[30;1m2025-05-06 08:22:24\u001b[0m \u001b[33;1mWARNING \u001b[0m \u001b[35mdiscord.client\u001b[0m PyNaCl is not installed, voice will NOT be supported.\n",
            "\u001b[H\u001b[2J\u001b[1;34m__________       __            ________      .__            .___            \u001b[0m\n",
            "\u001b[1;34m\\______   \\____ |  | __ ____  \u001b[0m\u001b[1;35m/\u001b[0m\u001b[1;34m  _____/______|__| ____    __| _/___________ \u001b[0m\n",
            "\u001b[1;34m |     ___/  _ \\|  |\u001b[0m\u001b[1;35m/\u001b[0m\u001b[1;34m \u001b[0m\u001b[1;35m/\u001b[0m\u001b[1;35m/\u001b[0m\u001b[1;34m __ \\\u001b[0m\u001b[1;35m/\u001b[0m\u001b[1;34m   \\  __\\_  __ \\  |\u001b[0m\u001b[1;35m/\u001b[0m\u001b[1;34m    \\  \u001b[0m\u001b[1;35m/\u001b[0m\u001b[1;34m __ |\u001b[0m\u001b[1;35m/\u001b[0m\u001b[1;34m __ \\_  __ \\\u001b[0m\n",
            "\u001b[1;34m |    |  \u001b[0m\u001b[1;34m(\u001b[0m\u001b[1;34m  \u001b[0m\u001b[1;34m<\u001b[0m\u001b[1;95m_\u001b[0m\u001b[1;39m> \u001b[0m\u001b[1;39m)\u001b[0m\u001b[1;39m    <\\  ___/\\    \\_\\  \\  | \\\u001b[0m\u001b[1;35m/\u001b[0m\u001b[1;39m  |   |  \\\u001b[0m\u001b[1;35m/\u001b[0m\u001b[1;39m \u001b[0m\u001b[1;35m/_/\u001b[0m\u001b[1;39m \\  ___/|  | \\\u001b[0m\u001b[1;35m/\u001b[0m\n",
            "\u001b[1;39m |____|   \\____/|__|_ \\\\___  >\\______  \u001b[0m\u001b[1;35m/\u001b[0m\u001b[1;95m__\u001b[0m\u001b[1;39m|  |__|___|  \u001b[0m\u001b[1;35m/\u001b[0m\u001b[1;39m\\____ |\\___  \u001b[0m\u001b[1;34m>\u001b[0m\u001b[1;34m__|   \u001b[0m\n",
            "\u001b[1;34m                     \\\u001b[0m\u001b[1;35m/\u001b[0m\u001b[1;34m    \\\u001b[0m\u001b[1;35m/\u001b[0m\u001b[1;34m        \\\u001b[0m\u001b[1;35m/\u001b[0m\u001b[1;34m              \\\u001b[0m\u001b[1;35m/\u001b[0m\u001b[1;34m      \\\u001b[0m\u001b[1;35m/\u001b[0m\u001b[1;34m    \\\u001b[0m\u001b[1;35m/\u001b[0m\u001b[1;34m       \u001b[0m\n",
            "\u001b[1;31m                  PokeGrinder ETA 0 hours 0 minutes 0 seconds                   \u001b[0m\n",
            "┏━━━━━━━━━┳━━━━━━━━━┳━━━━━━━━━┳━━━━━━━━━┳━━━━━━━━━┳━━━━━━━━━┳━━━━━━━━━┳━━━━━━━━┓\n",
            "┃\u001b[1;32m         \u001b[0m┃\u001b[1;32m         \u001b[0m┃\u001b[1;32m         \u001b[0m┃\u001b[1;32m \u001b[0m\u001b[1;32mFish   \u001b[0m\u001b[1;32m \u001b[0m┃\u001b[1;32m \u001b[0m\u001b[1;32mFish   \u001b[0m\u001b[1;32m \u001b[0m┃\u001b[1;32m \u001b[0m\u001b[1;32mCoins  \u001b[0m\u001b[1;32m \u001b[0m┃\u001b[1;32m \u001b[0m\u001b[1;32mHunting\u001b[0m\u001b[1;32m \u001b[0m┃\u001b[1;32m \u001b[0m\u001b[1;32mFishi…\u001b[0m\u001b[1;32m \u001b[0m┃\n",
            "┃\u001b[1;32m \u001b[0m\u001b[1;32mUserna…\u001b[0m\u001b[1;32m \u001b[0m┃\u001b[1;32m \u001b[0m\u001b[1;32mEncoun…\u001b[0m\u001b[1;32m \u001b[0m┃\u001b[1;32m \u001b[0m\u001b[1;32mCatches\u001b[0m\u001b[1;32m \u001b[0m┃\u001b[1;32m \u001b[0m\u001b[1;32mEncoun…\u001b[0m\u001b[1;32m \u001b[0m┃\u001b[1;32m \u001b[0m\u001b[1;32mCatches\u001b[0m\u001b[1;32m \u001b[0m┃\u001b[1;32m \u001b[0m\u001b[1;32mEarned \u001b[0m\u001b[1;32m \u001b[0m┃\u001b[1;32m \u001b[0m\u001b[1;32mStatus \u001b[0m\u001b[1;32m \u001b[0m┃\u001b[1;32m \u001b[0m\u001b[1;32mStatus\u001b[0m\u001b[1;32m \u001b[0m┃\n",
            "┡━━━━━━━━━╇━━━━━━━━━╇━━━━━━━━━╇━━━━━━━━━╇━━━━━━━━━╇━━━━━━━━━╇━━━━━━━━━╇━━━━━━━━┩\n",
            "│\u001b[1;31m \u001b[0m\u001b[1;31mTotal  \u001b[0m\u001b[1;31m \u001b[0m│\u001b[1;31m \u001b[0m\u001b[1;31m0      \u001b[0m\u001b[1;31m \u001b[0m│\u001b[1;31m \u001b[0m\u001b[1;31m0      \u001b[0m\u001b[1;31m \u001b[0m│\u001b[1;31m \u001b[0m\u001b[1;31m0      \u001b[0m\u001b[1;31m \u001b[0m│\u001b[1;31m \u001b[0m\u001b[1;31m0      \u001b[0m\u001b[1;31m \u001b[0m│\u001b[1;31m \u001b[0m\u001b[1;31m0      \u001b[0m\u001b[1;31m \u001b[0m│\u001b[1;31m \u001b[0m\u001b[1;31m       \u001b[0m\u001b[1;31m \u001b[0m│\u001b[1;31m \u001b[0m\u001b[1;31m      \u001b[0m\u001b[1;31m \u001b[0m│\n",
            "└─────────┴─────────┴─────────┴─────────┴─────────┴─────────┴─────────┴────────┘\n",
            "\u001b[H\u001b[2J\u001b[1;34m__________       __            ________      .__            .___            \u001b[0m\n",
            "\u001b[1;34m\\______   \\____ |  | __ ____  \u001b[0m\u001b[1;35m/\u001b[0m\u001b[1;34m  _____/______|__| ____    __| _/___________ \u001b[0m\n",
            "\u001b[1;34m |     ___/  _ \\|  |\u001b[0m\u001b[1;35m/\u001b[0m\u001b[1;34m \u001b[0m\u001b[1;35m/\u001b[0m\u001b[1;35m/\u001b[0m\u001b[1;34m __ \\\u001b[0m\u001b[1;35m/\u001b[0m\u001b[1;34m   \\  __\\_  __ \\  |\u001b[0m\u001b[1;35m/\u001b[0m\u001b[1;34m    \\  \u001b[0m\u001b[1;35m/\u001b[0m\u001b[1;34m __ |\u001b[0m\u001b[1;35m/\u001b[0m\u001b[1;34m __ \\_  __ \\\u001b[0m\n",
            "\u001b[1;34m |    |  \u001b[0m\u001b[1;34m(\u001b[0m\u001b[1;34m  \u001b[0m\u001b[1;34m<\u001b[0m\u001b[1;95m_\u001b[0m\u001b[1;39m> \u001b[0m\u001b[1;39m)\u001b[0m\u001b[1;39m    <\\  ___/\\    \\_\\  \\  | \\\u001b[0m\u001b[1;35m/\u001b[0m\u001b[1;39m  |   |  \\\u001b[0m\u001b[1;35m/\u001b[0m\u001b[1;39m \u001b[0m\u001b[1;35m/_/\u001b[0m\u001b[1;39m \\  ___/|  | \\\u001b[0m\u001b[1;35m/\u001b[0m\n",
            "\u001b[1;39m |____|   \\____/|__|_ \\\\___  >\\______  \u001b[0m\u001b[1;35m/\u001b[0m\u001b[1;95m__\u001b[0m\u001b[1;39m|  |__|___|  \u001b[0m\u001b[1;35m/\u001b[0m\u001b[1;39m\\____ |\\___  \u001b[0m\u001b[1;34m>\u001b[0m\u001b[1;34m__|   \u001b[0m\n",
            "\u001b[1;34m                     \\\u001b[0m\u001b[1;35m/\u001b[0m\u001b[1;34m    \\\u001b[0m\u001b[1;35m/\u001b[0m\u001b[1;34m        \\\u001b[0m\u001b[1;35m/\u001b[0m\u001b[1;34m              \\\u001b[0m\u001b[1;35m/\u001b[0m\u001b[1;34m      \\\u001b[0m\u001b[1;35m/\u001b[0m\u001b[1;34m    \\\u001b[0m\u001b[1;35m/\u001b[0m\u001b[1;34m       \u001b[0m\n",
            "\u001b[1;31m                  PokeGrinder ETA 0 hours 0 minutes 0 seconds                   \u001b[0m\n",
            "┏━━━━━━━━━┳━━━━━━━━━┳━━━━━━━━━┳━━━━━━━━━┳━━━━━━━━━┳━━━━━━━━━┳━━━━━━━━━┳━━━━━━━━┓\n",
            "┃\u001b[1;32m         \u001b[0m┃\u001b[1;32m         \u001b[0m┃\u001b[1;32m         \u001b[0m┃\u001b[1;32m \u001b[0m\u001b[1;32mFish   \u001b[0m\u001b[1;32m \u001b[0m┃\u001b[1;32m \u001b[0m\u001b[1;32mFish   \u001b[0m\u001b[1;32m \u001b[0m┃\u001b[1;32m \u001b[0m\u001b[1;32mCoins  \u001b[0m\u001b[1;32m \u001b[0m┃\u001b[1;32m \u001b[0m\u001b[1;32mHunting\u001b[0m\u001b[1;32m \u001b[0m┃\u001b[1;32m \u001b[0m\u001b[1;32mFishi…\u001b[0m\u001b[1;32m \u001b[0m┃\n",
            "┃\u001b[1;32m \u001b[0m\u001b[1;32mUserna…\u001b[0m\u001b[1;32m \u001b[0m┃\u001b[1;32m \u001b[0m\u001b[1;32mEncoun…\u001b[0m\u001b[1;32m \u001b[0m┃\u001b[1;32m \u001b[0m\u001b[1;32mCatches\u001b[0m\u001b[1;32m \u001b[0m┃\u001b[1;32m \u001b[0m\u001b[1;32mEncoun…\u001b[0m\u001b[1;32m \u001b[0m┃\u001b[1;32m \u001b[0m\u001b[1;32mCatches\u001b[0m\u001b[1;32m \u001b[0m┃\u001b[1;32m \u001b[0m\u001b[1;32mEarned \u001b[0m\u001b[1;32m \u001b[0m┃\u001b[1;32m \u001b[0m\u001b[1;32mStatus \u001b[0m\u001b[1;32m \u001b[0m┃\u001b[1;32m \u001b[0m\u001b[1;32mStatus\u001b[0m\u001b[1;32m \u001b[0m┃\n",
            "┡━━━━━━━━━╇━━━━━━━━━╇━━━━━━━━━╇━━━━━━━━━╇━━━━━━━━━╇━━━━━━━━━╇━━━━━━━━━╇━━━━━━━━┩\n",
            "│\u001b[1;31m \u001b[0m\u001b[1;31mTotal  \u001b[0m\u001b[1;31m \u001b[0m│\u001b[1;31m \u001b[0m\u001b[1;31m0      \u001b[0m\u001b[1;31m \u001b[0m│\u001b[1;31m \u001b[0m\u001b[1;31m0      \u001b[0m\u001b[1;31m \u001b[0m│\u001b[1;31m \u001b[0m\u001b[1;31m0      \u001b[0m\u001b[1;31m \u001b[0m│\u001b[1;31m \u001b[0m\u001b[1;31m0      \u001b[0m\u001b[1;31m \u001b[0m│\u001b[1;31m \u001b[0m\u001b[1;31m0      \u001b[0m\u001b[1;31m \u001b[0m│\u001b[1;31m \u001b[0m\u001b[1;31m       \u001b[0m\u001b[1;31m \u001b[0m│\u001b[1;31m \u001b[0m\u001b[1;31m      \u001b[0m\u001b[1;31m \u001b[0m│\n",
            "└─────────┴─────────┴─────────┴─────────┴─────────┴─────────┴─────────┴────────┘\n",
            "\u001b[30;1m2025-05-06 08:22:24\u001b[0m \u001b[34;1mINFO    \u001b[0m \u001b[35mdiscord.client\u001b[0m Logging in using static token.\n",
            "\u001b[30;1m2025-05-06 08:22:24\u001b[0m \u001b[34;1mINFO    \u001b[0m \u001b[35mdiscord.http\u001b[0m Found user agent \"Mozilla/5.0 (Windows NT 10.0; Win64; x64) AppleWebKit/537.36 (KHTML, like Gecko) Chrome/136.0.0.0 Safari/537.36\", build number 396858.\n",
            "\u001b[30;1m2025-05-06 08:22:24\u001b[0m \u001b[34;1mINFO    \u001b[0m \u001b[35mdiscord.http\u001b[0m Found TLS fingerprint target \"chrome131\".\n",
            "\u001b[30;1m2025-05-06 08:22:26\u001b[0m \u001b[34;1mINFO    \u001b[0m \u001b[35mdiscord.gateway\u001b[0m Connected to Gateway (Session ID: 944d4c72b97bd5d0245650b9cddaff94).\n",
            "Started grinding as _nuoccam!\n",
            "\u001b[30;1m2025-05-06 08:22:32\u001b[0m \u001b[31mERROR   \u001b[0m \u001b[35mdiscord.client\u001b[0m Ignoring exception in on_ready\n",
            "\u001b[31mTraceback (most recent call last):\n",
            "  File \"/usr/local/lib/python3.11/dist-packages/discord/client.py\", line 691, in _run_event\n",
            "    await coro(*args, **kwargs)\n",
            "  File \"/content/PokeGrinder/cogs/startup.py\", line 63, in on_ready\n",
            "    await get_commands(self.bot, self.config.fishing_channel_id)\n",
            "  File \"/content/PokeGrinder/cogs/startup.py\", line 39, in get_commands\n",
            "    for command in await channel.application_commands()\n",
            "                   ^^^^^^^^^^^^^^^^^^^^^^^^^^^^^^^^^^^^\n",
            "  File \"/usr/local/lib/python3.11/dist-packages/discord/abc.py\", line 2580, in application_commands\n",
            "    data = await state.http.guild_application_command_index(guild_id)\n",
            "           ^^^^^^^^^^^^^^^^^^^^^^^^^^^^^^^^^^^^^^^^^^^^^^^^^^^^^^^^^^\n",
            "  File \"/usr/local/lib/python3.11/dist-packages/discord/http.py\", line 929, in request\n",
            "    retry_after: float = data.get('retry_after', int(response.headers.get('Retry-After', 0)))\n",
            "                                                 ^^^^^^^^^^^^^^^^^^^^^^^^^^^^^^^^^^^^^^^^^^^\n",
            "ValueError: invalid literal for int() with base 10: '4.843'\u001b[0m\n"
          ]
        }
      ]
    }
  ]
}